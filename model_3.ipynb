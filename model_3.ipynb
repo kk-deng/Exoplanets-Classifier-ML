{
 "cells": [
  {
   "cell_type": "code",
   "execution_count": null,
   "metadata": {},
   "outputs": [],
   "source": [
    "# Update sklearn to prevent version mismatches\n",
    "!pip install sklearn --upgrade"
   ]
  },
  {
   "cell_type": "code",
   "execution_count": null,
   "metadata": {},
   "outputs": [],
   "source": [
    "# install joblib. This will be used to save your model. \n",
    "# Restart your kernel after installing \n",
    "!pip install joblib"
   ]
  },
  {
   "cell_type": "code",
   "execution_count": 1,
   "metadata": {},
   "outputs": [],
   "source": [
    "import pandas as pd"
   ]
  },
  {
   "cell_type": "markdown",
   "metadata": {},
   "source": [
    "# Read the CSV and Perform Basic Data Cleaning"
   ]
  },
  {
   "cell_type": "code",
   "execution_count": 2,
   "metadata": {},
   "outputs": [
    {
     "output_type": "execute_result",
     "data": {
      "text/plain": [
       "  koi_disposition  koi_fpflag_nt  koi_fpflag_ss  koi_fpflag_co  koi_fpflag_ec  \\\n",
       "0       CONFIRMED              0              0              0              0   \n",
       "1  FALSE POSITIVE              0              1              0              0   \n",
       "2  FALSE POSITIVE              0              1              0              0   \n",
       "3       CONFIRMED              0              0              0              0   \n",
       "4       CONFIRMED              0              0              0              0   \n",
       "\n",
       "   koi_period  koi_period_err1  koi_period_err2  koi_time0bk  \\\n",
       "0   54.418383     2.479000e-04    -2.479000e-04   162.513840   \n",
       "1   19.899140     1.490000e-05    -1.490000e-05   175.850252   \n",
       "2    1.736952     2.630000e-07    -2.630000e-07   170.307565   \n",
       "3    2.525592     3.760000e-06    -3.760000e-06   171.595550   \n",
       "4    4.134435     1.050000e-05    -1.050000e-05   172.979370   \n",
       "\n",
       "   koi_time0bk_err1  ...  koi_steff_err2  koi_slogg  koi_slogg_err1  \\\n",
       "0          0.003520  ...             -81      4.467           0.064   \n",
       "1          0.000581  ...            -176      4.544           0.044   \n",
       "2          0.000115  ...            -174      4.564           0.053   \n",
       "3          0.001130  ...            -211      4.438           0.070   \n",
       "4          0.001900  ...            -232      4.486           0.054   \n",
       "\n",
       "   koi_slogg_err2  koi_srad  koi_srad_err1  koi_srad_err2         ra  \\\n",
       "0          -0.096     0.927          0.105         -0.061  291.93423   \n",
       "1          -0.176     0.868          0.233         -0.078  297.00482   \n",
       "2          -0.168     0.791          0.201         -0.067  285.53461   \n",
       "3          -0.210     1.046          0.334         -0.133  288.75488   \n",
       "4          -0.229     0.972          0.315         -0.105  296.28613   \n",
       "\n",
       "         dec  koi_kepmag  \n",
       "0  48.141651      15.347  \n",
       "1  48.134129      15.436  \n",
       "2  48.285210      15.597  \n",
       "3  48.226200      15.509  \n",
       "4  48.224670      15.714  \n",
       "\n",
       "[5 rows x 41 columns]"
      ],
      "text/html": "<div>\n<style scoped>\n    .dataframe tbody tr th:only-of-type {\n        vertical-align: middle;\n    }\n\n    .dataframe tbody tr th {\n        vertical-align: top;\n    }\n\n    .dataframe thead th {\n        text-align: right;\n    }\n</style>\n<table border=\"1\" class=\"dataframe\">\n  <thead>\n    <tr style=\"text-align: right;\">\n      <th></th>\n      <th>koi_disposition</th>\n      <th>koi_fpflag_nt</th>\n      <th>koi_fpflag_ss</th>\n      <th>koi_fpflag_co</th>\n      <th>koi_fpflag_ec</th>\n      <th>koi_period</th>\n      <th>koi_period_err1</th>\n      <th>koi_period_err2</th>\n      <th>koi_time0bk</th>\n      <th>koi_time0bk_err1</th>\n      <th>...</th>\n      <th>koi_steff_err2</th>\n      <th>koi_slogg</th>\n      <th>koi_slogg_err1</th>\n      <th>koi_slogg_err2</th>\n      <th>koi_srad</th>\n      <th>koi_srad_err1</th>\n      <th>koi_srad_err2</th>\n      <th>ra</th>\n      <th>dec</th>\n      <th>koi_kepmag</th>\n    </tr>\n  </thead>\n  <tbody>\n    <tr>\n      <th>0</th>\n      <td>CONFIRMED</td>\n      <td>0</td>\n      <td>0</td>\n      <td>0</td>\n      <td>0</td>\n      <td>54.418383</td>\n      <td>2.479000e-04</td>\n      <td>-2.479000e-04</td>\n      <td>162.513840</td>\n      <td>0.003520</td>\n      <td>...</td>\n      <td>-81</td>\n      <td>4.467</td>\n      <td>0.064</td>\n      <td>-0.096</td>\n      <td>0.927</td>\n      <td>0.105</td>\n      <td>-0.061</td>\n      <td>291.93423</td>\n      <td>48.141651</td>\n      <td>15.347</td>\n    </tr>\n    <tr>\n      <th>1</th>\n      <td>FALSE POSITIVE</td>\n      <td>0</td>\n      <td>1</td>\n      <td>0</td>\n      <td>0</td>\n      <td>19.899140</td>\n      <td>1.490000e-05</td>\n      <td>-1.490000e-05</td>\n      <td>175.850252</td>\n      <td>0.000581</td>\n      <td>...</td>\n      <td>-176</td>\n      <td>4.544</td>\n      <td>0.044</td>\n      <td>-0.176</td>\n      <td>0.868</td>\n      <td>0.233</td>\n      <td>-0.078</td>\n      <td>297.00482</td>\n      <td>48.134129</td>\n      <td>15.436</td>\n    </tr>\n    <tr>\n      <th>2</th>\n      <td>FALSE POSITIVE</td>\n      <td>0</td>\n      <td>1</td>\n      <td>0</td>\n      <td>0</td>\n      <td>1.736952</td>\n      <td>2.630000e-07</td>\n      <td>-2.630000e-07</td>\n      <td>170.307565</td>\n      <td>0.000115</td>\n      <td>...</td>\n      <td>-174</td>\n      <td>4.564</td>\n      <td>0.053</td>\n      <td>-0.168</td>\n      <td>0.791</td>\n      <td>0.201</td>\n      <td>-0.067</td>\n      <td>285.53461</td>\n      <td>48.285210</td>\n      <td>15.597</td>\n    </tr>\n    <tr>\n      <th>3</th>\n      <td>CONFIRMED</td>\n      <td>0</td>\n      <td>0</td>\n      <td>0</td>\n      <td>0</td>\n      <td>2.525592</td>\n      <td>3.760000e-06</td>\n      <td>-3.760000e-06</td>\n      <td>171.595550</td>\n      <td>0.001130</td>\n      <td>...</td>\n      <td>-211</td>\n      <td>4.438</td>\n      <td>0.070</td>\n      <td>-0.210</td>\n      <td>1.046</td>\n      <td>0.334</td>\n      <td>-0.133</td>\n      <td>288.75488</td>\n      <td>48.226200</td>\n      <td>15.509</td>\n    </tr>\n    <tr>\n      <th>4</th>\n      <td>CONFIRMED</td>\n      <td>0</td>\n      <td>0</td>\n      <td>0</td>\n      <td>0</td>\n      <td>4.134435</td>\n      <td>1.050000e-05</td>\n      <td>-1.050000e-05</td>\n      <td>172.979370</td>\n      <td>0.001900</td>\n      <td>...</td>\n      <td>-232</td>\n      <td>4.486</td>\n      <td>0.054</td>\n      <td>-0.229</td>\n      <td>0.972</td>\n      <td>0.315</td>\n      <td>-0.105</td>\n      <td>296.28613</td>\n      <td>48.224670</td>\n      <td>15.714</td>\n    </tr>\n  </tbody>\n</table>\n<p>5 rows × 41 columns</p>\n</div>"
     },
     "metadata": {},
     "execution_count": 2
    }
   ],
   "source": [
    "df = pd.read_csv(\"exoplanet_data.csv\")\n",
    "# Drop the null columns where all values are null\n",
    "df = df.dropna(axis='columns', how='all')\n",
    "# Drop the null rows\n",
    "df = df.dropna()\n",
    "df.head()"
   ]
  },
  {
   "cell_type": "markdown",
   "metadata": {},
   "source": [
    "# Select your features (columns)"
   ]
  },
  {
   "cell_type": "code",
   "execution_count": 3,
   "metadata": {},
   "outputs": [],
   "source": [
    "# Set features. This will also be used as your x values.\n",
    "selected_features = df.drop(['koi_disposition'], axis=1)"
   ]
  },
  {
   "cell_type": "markdown",
   "metadata": {},
   "source": [
    "# Create a Train Test Split\n",
    "\n",
    "Use `koi_disposition` for the y values"
   ]
  },
  {
   "cell_type": "code",
   "execution_count": 4,
   "metadata": {},
   "outputs": [],
   "source": [
    "target = df[\"koi_disposition\"]"
   ]
  },
  {
   "cell_type": "code",
   "execution_count": 5,
   "metadata": {},
   "outputs": [],
   "source": [
    "from sklearn.model_selection import train_test_split\n",
    "X_train, X_test, y_train, y_test = train_test_split(selected_features, target, random_state=42)"
   ]
  },
  {
   "cell_type": "code",
   "execution_count": 6,
   "metadata": {},
   "outputs": [
    {
     "output_type": "execute_result",
     "data": {
      "text/plain": [
       "      koi_fpflag_nt  koi_fpflag_ss  koi_fpflag_co  koi_fpflag_ec  koi_period  \\\n",
       "6122              0              0              0              0    6.768901   \n",
       "6370              0              1              0              1    0.733726   \n",
       "2879              1              0              0              0    7.652707   \n",
       "107               0              0              0              0    7.953547   \n",
       "29                0              0              0              0    4.959319   \n",
       "\n",
       "      koi_period_err1  koi_period_err2  koi_time0bk  koi_time0bk_err1  \\\n",
       "6122     7.380000e-05    -7.380000e-05   133.077240          0.008440   \n",
       "6370     6.060000e-06    -6.060000e-06   132.020050          0.007950   \n",
       "2879     6.540000e-05    -6.540000e-05   134.460380          0.006190   \n",
       "107      1.910000e-05    -1.910000e-05   174.662240          0.001820   \n",
       "29       5.150000e-07    -5.150000e-07   172.258529          0.000083   \n",
       "\n",
       "      koi_time0bk_err2  ...  koi_steff_err2  koi_slogg  koi_slogg_err1  \\\n",
       "6122         -0.008440  ...            -171      4.327           0.153   \n",
       "6370         -0.007950  ...            -175      4.578           0.033   \n",
       "2879         -0.006190  ...            -189      4.481           0.050   \n",
       "107          -0.001820  ...             -85      4.536           0.056   \n",
       "29           -0.000083  ...             -77      4.359           0.110   \n",
       "\n",
       "      koi_slogg_err2  koi_srad  koi_srad_err1  koi_srad_err2         ra  \\\n",
       "6122          -0.187     1.125          0.310         -0.207  294.40472   \n",
       "6370          -0.187     0.797          0.211         -0.056  284.50391   \n",
       "2879          -0.200     0.963          0.290         -0.097  295.50211   \n",
       "107           -0.016     0.779          0.023         -0.049  291.15878   \n",
       "29            -0.110     1.082          0.173         -0.130  292.16705   \n",
       "\n",
       "            dec  koi_kepmag  \n",
       "6122  39.351681      14.725  \n",
       "6370  42.463860      15.770  \n",
       "2879  38.983540      13.099  \n",
       "107   40.750271      15.660  \n",
       "29    48.727589      15.263  \n",
       "\n",
       "[5 rows x 40 columns]"
      ],
      "text/html": "<div>\n<style scoped>\n    .dataframe tbody tr th:only-of-type {\n        vertical-align: middle;\n    }\n\n    .dataframe tbody tr th {\n        vertical-align: top;\n    }\n\n    .dataframe thead th {\n        text-align: right;\n    }\n</style>\n<table border=\"1\" class=\"dataframe\">\n  <thead>\n    <tr style=\"text-align: right;\">\n      <th></th>\n      <th>koi_fpflag_nt</th>\n      <th>koi_fpflag_ss</th>\n      <th>koi_fpflag_co</th>\n      <th>koi_fpflag_ec</th>\n      <th>koi_period</th>\n      <th>koi_period_err1</th>\n      <th>koi_period_err2</th>\n      <th>koi_time0bk</th>\n      <th>koi_time0bk_err1</th>\n      <th>koi_time0bk_err2</th>\n      <th>...</th>\n      <th>koi_steff_err2</th>\n      <th>koi_slogg</th>\n      <th>koi_slogg_err1</th>\n      <th>koi_slogg_err2</th>\n      <th>koi_srad</th>\n      <th>koi_srad_err1</th>\n      <th>koi_srad_err2</th>\n      <th>ra</th>\n      <th>dec</th>\n      <th>koi_kepmag</th>\n    </tr>\n  </thead>\n  <tbody>\n    <tr>\n      <th>6122</th>\n      <td>0</td>\n      <td>0</td>\n      <td>0</td>\n      <td>0</td>\n      <td>6.768901</td>\n      <td>7.380000e-05</td>\n      <td>-7.380000e-05</td>\n      <td>133.077240</td>\n      <td>0.008440</td>\n      <td>-0.008440</td>\n      <td>...</td>\n      <td>-171</td>\n      <td>4.327</td>\n      <td>0.153</td>\n      <td>-0.187</td>\n      <td>1.125</td>\n      <td>0.310</td>\n      <td>-0.207</td>\n      <td>294.40472</td>\n      <td>39.351681</td>\n      <td>14.725</td>\n    </tr>\n    <tr>\n      <th>6370</th>\n      <td>0</td>\n      <td>1</td>\n      <td>0</td>\n      <td>1</td>\n      <td>0.733726</td>\n      <td>6.060000e-06</td>\n      <td>-6.060000e-06</td>\n      <td>132.020050</td>\n      <td>0.007950</td>\n      <td>-0.007950</td>\n      <td>...</td>\n      <td>-175</td>\n      <td>4.578</td>\n      <td>0.033</td>\n      <td>-0.187</td>\n      <td>0.797</td>\n      <td>0.211</td>\n      <td>-0.056</td>\n      <td>284.50391</td>\n      <td>42.463860</td>\n      <td>15.770</td>\n    </tr>\n    <tr>\n      <th>2879</th>\n      <td>1</td>\n      <td>0</td>\n      <td>0</td>\n      <td>0</td>\n      <td>7.652707</td>\n      <td>6.540000e-05</td>\n      <td>-6.540000e-05</td>\n      <td>134.460380</td>\n      <td>0.006190</td>\n      <td>-0.006190</td>\n      <td>...</td>\n      <td>-189</td>\n      <td>4.481</td>\n      <td>0.050</td>\n      <td>-0.200</td>\n      <td>0.963</td>\n      <td>0.290</td>\n      <td>-0.097</td>\n      <td>295.50211</td>\n      <td>38.983540</td>\n      <td>13.099</td>\n    </tr>\n    <tr>\n      <th>107</th>\n      <td>0</td>\n      <td>0</td>\n      <td>0</td>\n      <td>0</td>\n      <td>7.953547</td>\n      <td>1.910000e-05</td>\n      <td>-1.910000e-05</td>\n      <td>174.662240</td>\n      <td>0.001820</td>\n      <td>-0.001820</td>\n      <td>...</td>\n      <td>-85</td>\n      <td>4.536</td>\n      <td>0.056</td>\n      <td>-0.016</td>\n      <td>0.779</td>\n      <td>0.023</td>\n      <td>-0.049</td>\n      <td>291.15878</td>\n      <td>40.750271</td>\n      <td>15.660</td>\n    </tr>\n    <tr>\n      <th>29</th>\n      <td>0</td>\n      <td>0</td>\n      <td>0</td>\n      <td>0</td>\n      <td>4.959319</td>\n      <td>5.150000e-07</td>\n      <td>-5.150000e-07</td>\n      <td>172.258529</td>\n      <td>0.000083</td>\n      <td>-0.000083</td>\n      <td>...</td>\n      <td>-77</td>\n      <td>4.359</td>\n      <td>0.110</td>\n      <td>-0.110</td>\n      <td>1.082</td>\n      <td>0.173</td>\n      <td>-0.130</td>\n      <td>292.16705</td>\n      <td>48.727589</td>\n      <td>15.263</td>\n    </tr>\n  </tbody>\n</table>\n<p>5 rows × 40 columns</p>\n</div>"
     },
     "metadata": {},
     "execution_count": 6
    }
   ],
   "source": [
    "X_train.head()"
   ]
  },
  {
   "cell_type": "markdown",
   "metadata": {},
   "source": [
    "# Pre-processing\n",
    "\n",
    "Scale the data using the MinMaxScaler and perform some feature selection"
   ]
  },
  {
   "cell_type": "code",
   "execution_count": 7,
   "metadata": {},
   "outputs": [],
   "source": [
    "# Scale your data\n",
    "from sklearn.preprocessing import MinMaxScaler\n",
    "\n",
    "X_scaler = MinMaxScaler().fit(X_train)"
   ]
  },
  {
   "cell_type": "code",
   "execution_count": 8,
   "metadata": {},
   "outputs": [],
   "source": [
    "# Transform the training and testing data using the X_scaler\n",
    "X_train_scaled = X_scaler.transform(X_train)\n",
    "X_test_scaled = X_scaler.transform(X_test)\n"
   ]
  },
  {
   "cell_type": "markdown",
   "metadata": {},
   "source": [
    "# Train the Model - Random Forest \n",
    "\n"
   ]
  },
  {
   "cell_type": "code",
   "execution_count": 9,
   "metadata": {},
   "outputs": [],
   "source": [
    "# Using Random Forest\n",
    "from sklearn.ensemble import RandomForestClassifier\n",
    "rf = RandomForestClassifier(n_estimators=200)"
   ]
  },
  {
   "cell_type": "code",
   "execution_count": 10,
   "metadata": {},
   "outputs": [
    {
     "output_type": "execute_result",
     "data": {
      "text/plain": [
       "0.8998855835240275"
      ]
     },
     "metadata": {},
     "execution_count": 10
    }
   ],
   "source": [
    "# Fit the model\n",
    "rf = rf.fit(X_train, y_train)\n",
    "rf.score(X_test, y_test)"
   ]
  },
  {
   "cell_type": "code",
   "execution_count": 11,
   "metadata": {},
   "outputs": [
    {
     "output_type": "stream",
     "name": "stdout",
     "text": [
      "Training Data Score: 1.0\nTesting Data Score: 0.8998855835240275\n"
     ]
    }
   ],
   "source": [
    "# Validate the model using the test data\n",
    "print(f\"Training Data Score: {rf.score(X_train, y_train)}\")\n",
    "print(f\"Testing Data Score: {rf.score(X_test, y_test)}\")"
   ]
  },
  {
   "cell_type": "markdown",
   "metadata": {},
   "source": [
    "# Hyperparameter Tuning\n",
    "\n",
    "Use `GridSearchCV` to tune the model's parameters"
   ]
  },
  {
   "cell_type": "code",
   "execution_count": 12,
   "metadata": {},
   "outputs": [
    {
     "output_type": "execute_result",
     "data": {
      "text/plain": [
       "{'bootstrap': True,\n",
       " 'ccp_alpha': 0.0,\n",
       " 'class_weight': None,\n",
       " 'criterion': 'gini',\n",
       " 'max_depth': None,\n",
       " 'max_features': 'auto',\n",
       " 'max_leaf_nodes': None,\n",
       " 'max_samples': None,\n",
       " 'min_impurity_decrease': 0.0,\n",
       " 'min_impurity_split': None,\n",
       " 'min_samples_leaf': 1,\n",
       " 'min_samples_split': 2,\n",
       " 'min_weight_fraction_leaf': 0.0,\n",
       " 'n_estimators': 200,\n",
       " 'n_jobs': None,\n",
       " 'oob_score': False,\n",
       " 'random_state': None,\n",
       " 'verbose': 0,\n",
       " 'warm_start': False}"
      ]
     },
     "metadata": {},
     "execution_count": 12
    }
   ],
   "source": [
    "rf.get_params()"
   ]
  },
  {
   "cell_type": "code",
   "execution_count": 13,
   "metadata": {},
   "outputs": [
    {
     "output_type": "stream",
     "name": "stdout",
     "text": [
      "{'n_estimators': [200, 500], 'max_features': ['auto', 'sqrt', 'log2'], 'max_depth': [4, 5, 6, 7, 8], 'criterion': ['gini', 'entropy']}\n"
     ]
    }
   ],
   "source": [
    "# Create the GridSearchCV model\n",
    "from sklearn.model_selection import GridSearchCV\n",
    "\n",
    "# define the parameter values that should be searched\n",
    "param_grid = { \n",
    "    'n_estimators': [200, 500],\n",
    "    'max_features': ['auto', 'sqrt', 'log2'],\n",
    "    'max_depth' : [4,5,6,7,8],\n",
    "    'criterion' :['gini', 'entropy']\n",
    "}\n",
    "print(param_grid)\n"
   ]
  },
  {
   "cell_type": "code",
   "execution_count": 14,
   "metadata": {
    "tags": []
   },
   "outputs": [
    {
     "output_type": "stream",
     "name": "stdout",
     "text": [
      "Fitting 3 folds for each of 60 candidates, totalling 180 fits\n",
      "[Parallel(n_jobs=-1)]: Using backend LokyBackend with 4 concurrent workers.\n",
      "[Parallel(n_jobs=-1)]: Done  42 tasks      | elapsed:  1.0min\n",
      "[Parallel(n_jobs=-1)]: Done 180 out of 180 | elapsed:  6.1min finished\n"
     ]
    },
    {
     "output_type": "execute_result",
     "data": {
      "text/plain": [
       "GridSearchCV(cv=3, estimator=RandomForestClassifier(n_estimators=200),\n",
       "             n_jobs=-1,\n",
       "             param_grid={'criterion': ['gini', 'entropy'],\n",
       "                         'max_depth': [4, 5, 6, 7, 8],\n",
       "                         'max_features': ['auto', 'sqrt', 'log2'],\n",
       "                         'n_estimators': [200, 500]},\n",
       "             verbose=1)"
      ]
     },
     "metadata": {},
     "execution_count": 14
    }
   ],
   "source": [
    "# Train the model with GridSe\n",
    "# instantiate the grid\n",
    "grid = GridSearchCV(rf, param_grid, cv=3, verbose=1, n_jobs=-1)\n",
    "\n",
    "# Fit the model using the grid search estimator. \n",
    "grid.fit(X_train, y_train)"
   ]
  },
  {
   "cell_type": "code",
   "execution_count": 15,
   "metadata": {},
   "outputs": [
    {
     "output_type": "stream",
     "name": "stdout",
     "text": [
      "{'criterion': 'entropy', 'max_depth': 8, 'max_features': 'auto', 'n_estimators': 200}\n0.8874671060818219\nRandomForestClassifier(criterion='entropy', max_depth=8, n_estimators=200)\n"
     ]
    }
   ],
   "source": [
    "# List the best parameters for this dataset\n",
    "print(grid.best_params_)\n",
    "print(grid.best_score_)\n",
    "print(grid.best_estimator_)"
   ]
  },
  {
   "cell_type": "code",
   "execution_count": 16,
   "metadata": {},
   "outputs": [
    {
     "output_type": "execute_result",
     "data": {
      "text/plain": [
       "RandomForestClassifier(criterion='entropy', max_depth=8, n_estimators=200)"
      ]
     },
     "metadata": {},
     "execution_count": 16
    }
   ],
   "source": [
    "# Testing model\n",
    "model3 = RandomForestClassifier(criterion='entropy', max_depth=8, n_estimators=200)\n",
    "model3.fit(X_train_scaled, y_train)\n"
   ]
  },
  {
   "cell_type": "code",
   "execution_count": 17,
   "metadata": {},
   "outputs": [
    {
     "output_type": "stream",
     "name": "stdout",
     "text": [
      "Testing Data Score: 0.8890160183066361\n"
     ]
    }
   ],
   "source": [
    "print(f\"Testing Data Score: {model3.score(X_test_scaled, y_test)}\")"
   ]
  },
  {
   "source": [
    "## Feature Selection with Feature Importances"
   ],
   "cell_type": "markdown",
   "metadata": {}
  },
  {
   "cell_type": "code",
   "execution_count": 18,
   "metadata": {},
   "outputs": [
    {
     "output_type": "stream",
     "name": "stdout",
     "text": [
      "[0.1348324  0.10649975 0.14009659 0.0519333  0.02001932 0.01483964\n 0.0134889  0.00591588 0.02491383 0.01944451 0.01230527 0.0041311\n 0.0029487  0.010005   0.03437198 0.03416693 0.01669416 0.00960755\n 0.00757794 0.05770413 0.0399819  0.03069751 0.01252582 0.01084232\n 0.01606823 0.00985144 0.06377284 0.00139651 0.00317524 0.03132\n 0.02660286 0.00350536 0.00270711 0.00411803 0.00388169 0.00657485\n 0.00300824 0.00353388 0.00237176 0.00256754]\n"
     ]
    }
   ],
   "source": [
    "# Use feature importances to get the insignificant variables\n",
    "importances = model3.feature_importances_\n",
    "print(importances)"
   ]
  },
  {
   "cell_type": "code",
   "execution_count": 20,
   "metadata": {},
   "outputs": [
    {
     "output_type": "execute_result",
     "data": {
      "text/plain": [
       "[(0.10969206253939365, 'koi_fpflag_ss'),\n",
       " (0.09919682212677283, 'koi_disposition'),\n",
       " (0.06798665990110278, 'koi_fpflag_nt'),\n",
       " (0.0540933686808439, 'koi_insol_err2'),\n",
       " (0.04563358243272647, 'koi_depth_err2'),\n",
       " (0.03529373075550331, 'koi_prad'),\n",
       " (0.03476563755847626, 'koi_fpflag_co'),\n",
       " (0.03431342113450309, 'koi_duration_err1'),\n",
       " (0.03302655462258555, 'koi_prad_err1'),\n",
       " (0.032697126762067145, 'koi_duration'),\n",
       " (0.032170828723411475, 'koi_steff'),\n",
       " (0.027236867973039862, 'koi_steff_err1'),\n",
       " (0.02471045561290443, 'koi_time0bk_err1'),\n",
       " (0.023248927373629283, 'koi_time0bk'),\n",
       " (0.02266749931811483, 'koi_impact_err2'),\n",
       " (0.02254597657106705, 'koi_fpflag_ec'),\n",
       " (0.020934564081467, 'koi_duration_err2'),\n",
       " (0.018899733591843146, 'koi_time0bk_err2'),\n",
       " (0.017076839005701113, 'koi_period_err1'),\n",
       " (0.01663751439810807, 'koi_insol'),\n",
       " (0.01616792942142308, 'koi_period'),\n",
       " (0.01598658373144781, 'koi_teq'),\n",
       " (0.015560797246980451, 'koi_insol_err1'),\n",
       " (0.015280387407704757, 'koi_prad_err2'),\n",
       " (0.01339388613987052, 'koi_depth'),\n",
       " (0.013041787781272294, 'koi_depth_err1'),\n",
       " (0.012852683935661403, 'koi_period_err2'),\n",
       " (0.01192296939225105, 'koi_srad_err2'),\n",
       " (0.011500107647583066, 'koi_srad'),\n",
       " (0.01143258084988097, 'koi_impact'),\n",
       " (0.011306348473958368, 'ra'),\n",
       " (0.011020742390742543, 'koi_impact_err1'),\n",
       " (0.010429409378783623, 'dec'),\n",
       " (0.009991674640254751, 'koi_slogg_err1'),\n",
       " (0.009739570305648291, 'koi_tce_plnt_num'),\n",
       " (0.008765861419413329, 'koi_steff_err2'),\n",
       " (0.008689073861901063, 'koi_slogg_err2'),\n",
       " (0.00857503309473458, 'koi_srad_err1'),\n",
       " (0.008568573008677683, 'koi_slogg'),\n",
       " (0.00294582670854915, 'koi_model_snr')]"
      ]
     },
     "metadata": {},
     "execution_count": 20
    }
   ],
   "source": [
    "# Sort the features with the most important ones on the top\n",
    "feature_names = df.columns\n",
    "feature_importance = sorted(zip(rf.feature_importances_, feature_names), reverse=True)\n",
    "feature_importance"
   ]
  },
  {
   "cell_type": "code",
   "execution_count": 21,
   "metadata": {},
   "outputs": [
    {
     "output_type": "stream",
     "name": "stdout",
     "text": [
      "['koi_fpflag_ss', 'koi_disposition', 'koi_fpflag_nt', 'koi_insol_err2', 'koi_depth_err2', 'koi_prad', 'koi_fpflag_co', 'koi_duration_err1', 'koi_prad_err1', 'koi_duration', 'koi_steff', 'koi_steff_err1', 'koi_time0bk_err1', 'koi_time0bk', 'koi_impact_err2', 'koi_fpflag_ec', 'koi_duration_err2', 'koi_time0bk_err2', 'koi_period_err1', 'koi_insol', 'koi_period', 'koi_teq', 'koi_insol_err1', 'koi_prad_err2', 'koi_depth', 'koi_depth_err1', 'koi_period_err2', 'koi_srad_err2', 'koi_srad', 'koi_impact', 'ra', 'koi_impact_err1', 'dec']\n"
     ]
    }
   ],
   "source": [
    "# Get a new list of features with importance > 0.01\r\n",
    "fi_selected_features = []\r\n",
    "for importance in feature_importance:\r\n",
    "    if importance[0] > 0.01:\r\n",
    "        fi_selected_features.append(importance[1])\r\n",
    "\r\n",
    "print(fi_selected_features)"
   ]
  },
  {
   "cell_type": "code",
   "execution_count": 26,
   "metadata": {},
   "outputs": [
    {
     "output_type": "execute_result",
     "data": {
      "text/plain": [
       "      koi_fpflag_ss  koi_fpflag_nt  koi_insol_err2  koi_depth_err2  koi_prad  \\\n",
       "6122              0              0         -103.87           -13.2      1.24   \n",
       "6370              1              0         -677.78            -9.3      0.86   \n",
       "2879              0              1          -64.34           -42.9      3.21   \n",
       "107               0              0          -10.12           -25.3      2.25   \n",
       "29                0              0          -93.21           -20.0     12.21   \n",
       "\n",
       "      koi_fpflag_co  koi_duration_err1  koi_prad_err1  koi_duration  \\\n",
       "6122              0             0.3060           0.34       3.61600   \n",
       "6370              0             0.2820           0.23       2.30900   \n",
       "2879              0             0.0000           0.97      79.89690   \n",
       "107               0             0.0595           0.07       2.63120   \n",
       "29                0             0.0075           1.96       2.22739   \n",
       "\n",
       "      koi_steff  ...  koi_prad_err2  koi_depth  koi_depth_err1  \\\n",
       "6122       5737  ...          -0.23      123.1            13.2   \n",
       "6370       5855  ...          -0.06      114.6             9.3   \n",
       "2879       6328  ...          -0.32      641.1            42.9   \n",
       "107        4768  ...          -0.14      875.4            25.3   \n",
       "29         5712  ...          -1.46     9802.0            20.0   \n",
       "\n",
       "      koi_period_err2  koi_srad_err2  koi_srad  koi_impact         ra  \\\n",
       "6122    -7.380000e-05         -0.207     1.125       0.150  294.40472   \n",
       "6370    -6.060000e-06         -0.056     0.797       0.291  284.50391   \n",
       "2879    -6.540000e-05         -0.097     0.963       0.970  295.50211   \n",
       "107     -1.910000e-05         -0.049     0.779       0.300  291.15878   \n",
       "29      -5.150000e-07         -0.130     1.082       0.831  292.16705   \n",
       "\n",
       "      koi_impact_err1        dec  \n",
       "6122            0.305  39.351681  \n",
       "6370            0.193  42.463860  \n",
       "2879            0.879  38.983540  \n",
       "107             0.145  40.750271  \n",
       "29              0.016  48.727589  \n",
       "\n",
       "[5 rows x 32 columns]"
      ],
      "text/html": "<div>\n<style scoped>\n    .dataframe tbody tr th:only-of-type {\n        vertical-align: middle;\n    }\n\n    .dataframe tbody tr th {\n        vertical-align: top;\n    }\n\n    .dataframe thead th {\n        text-align: right;\n    }\n</style>\n<table border=\"1\" class=\"dataframe\">\n  <thead>\n    <tr style=\"text-align: right;\">\n      <th></th>\n      <th>koi_fpflag_ss</th>\n      <th>koi_fpflag_nt</th>\n      <th>koi_insol_err2</th>\n      <th>koi_depth_err2</th>\n      <th>koi_prad</th>\n      <th>koi_fpflag_co</th>\n      <th>koi_duration_err1</th>\n      <th>koi_prad_err1</th>\n      <th>koi_duration</th>\n      <th>koi_steff</th>\n      <th>...</th>\n      <th>koi_prad_err2</th>\n      <th>koi_depth</th>\n      <th>koi_depth_err1</th>\n      <th>koi_period_err2</th>\n      <th>koi_srad_err2</th>\n      <th>koi_srad</th>\n      <th>koi_impact</th>\n      <th>ra</th>\n      <th>koi_impact_err1</th>\n      <th>dec</th>\n    </tr>\n  </thead>\n  <tbody>\n    <tr>\n      <th>6122</th>\n      <td>0</td>\n      <td>0</td>\n      <td>-103.87</td>\n      <td>-13.2</td>\n      <td>1.24</td>\n      <td>0</td>\n      <td>0.3060</td>\n      <td>0.34</td>\n      <td>3.61600</td>\n      <td>5737</td>\n      <td>...</td>\n      <td>-0.23</td>\n      <td>123.1</td>\n      <td>13.2</td>\n      <td>-7.380000e-05</td>\n      <td>-0.207</td>\n      <td>1.125</td>\n      <td>0.150</td>\n      <td>294.40472</td>\n      <td>0.305</td>\n      <td>39.351681</td>\n    </tr>\n    <tr>\n      <th>6370</th>\n      <td>1</td>\n      <td>0</td>\n      <td>-677.78</td>\n      <td>-9.3</td>\n      <td>0.86</td>\n      <td>0</td>\n      <td>0.2820</td>\n      <td>0.23</td>\n      <td>2.30900</td>\n      <td>5855</td>\n      <td>...</td>\n      <td>-0.06</td>\n      <td>114.6</td>\n      <td>9.3</td>\n      <td>-6.060000e-06</td>\n      <td>-0.056</td>\n      <td>0.797</td>\n      <td>0.291</td>\n      <td>284.50391</td>\n      <td>0.193</td>\n      <td>42.463860</td>\n    </tr>\n    <tr>\n      <th>2879</th>\n      <td>0</td>\n      <td>1</td>\n      <td>-64.34</td>\n      <td>-42.9</td>\n      <td>3.21</td>\n      <td>0</td>\n      <td>0.0000</td>\n      <td>0.97</td>\n      <td>79.89690</td>\n      <td>6328</td>\n      <td>...</td>\n      <td>-0.32</td>\n      <td>641.1</td>\n      <td>42.9</td>\n      <td>-6.540000e-05</td>\n      <td>-0.097</td>\n      <td>0.963</td>\n      <td>0.970</td>\n      <td>295.50211</td>\n      <td>0.879</td>\n      <td>38.983540</td>\n    </tr>\n    <tr>\n      <th>107</th>\n      <td>0</td>\n      <td>0</td>\n      <td>-10.12</td>\n      <td>-25.3</td>\n      <td>2.25</td>\n      <td>0</td>\n      <td>0.0595</td>\n      <td>0.07</td>\n      <td>2.63120</td>\n      <td>4768</td>\n      <td>...</td>\n      <td>-0.14</td>\n      <td>875.4</td>\n      <td>25.3</td>\n      <td>-1.910000e-05</td>\n      <td>-0.049</td>\n      <td>0.779</td>\n      <td>0.300</td>\n      <td>291.15878</td>\n      <td>0.145</td>\n      <td>40.750271</td>\n    </tr>\n    <tr>\n      <th>29</th>\n      <td>0</td>\n      <td>0</td>\n      <td>-93.21</td>\n      <td>-20.0</td>\n      <td>12.21</td>\n      <td>0</td>\n      <td>0.0075</td>\n      <td>1.96</td>\n      <td>2.22739</td>\n      <td>5712</td>\n      <td>...</td>\n      <td>-1.46</td>\n      <td>9802.0</td>\n      <td>20.0</td>\n      <td>-5.150000e-07</td>\n      <td>-0.130</td>\n      <td>1.082</td>\n      <td>0.831</td>\n      <td>292.16705</td>\n      <td>0.016</td>\n      <td>48.727589</td>\n    </tr>\n  </tbody>\n</table>\n<p>5 rows × 32 columns</p>\n</div>"
     },
     "metadata": {},
     "execution_count": 26
    }
   ],
   "source": [
    "# Get a new df with selected features\n",
    "new_selected_features = df[fi_selected_features].drop([\"koi_disposition\"], axis=1)\n",
    "\n",
    "# Re split the samples\n",
    "X_train, X_test, y_train, y_test = train_test_split(new_selected_features, target, random_state=42)\n",
    "\n",
    "X_train.head()\n"
   ]
  },
  {
   "cell_type": "code",
   "execution_count": 27,
   "metadata": {},
   "outputs": [],
   "source": [
    "# Scale the data\n",
    "X_scaler = MinMaxScaler().fit(X_train)\n",
    "\n",
    "# Transform the training and testing data using the X_scaler\n",
    "X_train_scaled = X_scaler.transform(X_train)\n",
    "X_test_scaled = X_scaler.transform(X_test)"
   ]
  },
  {
   "cell_type": "code",
   "execution_count": 28,
   "metadata": {},
   "outputs": [
    {
     "output_type": "execute_result",
     "data": {
      "text/plain": [
       "RandomForestClassifier(criterion='entropy', max_depth=8, n_estimators=200)"
      ]
     },
     "metadata": {},
     "execution_count": 28
    }
   ],
   "source": [
    "# Testing model\n",
    "fi_model3 = RandomForestClassifier(criterion='entropy', max_depth=8, n_estimators=200)\n",
    "fi_model3.fit(X_train_scaled, y_train)"
   ]
  },
  {
   "cell_type": "code",
   "execution_count": 29,
   "metadata": {},
   "outputs": [
    {
     "output_type": "stream",
     "name": "stdout",
     "text": [
      "Training Data Score: 0.8989128361625024\nTesting Data Score: 0.8718535469107551\n"
     ]
    }
   ],
   "source": [
    "print(f\"Training Data Score: {fi_model3.score(X_train_scaled, y_train)}\")\n",
    "print(f\"Testing Data Score: {fi_model3.score(X_test_scaled, y_test)}\")"
   ]
  },
  {
   "cell_type": "markdown",
   "metadata": {},
   "source": [
    "# Save the Model"
   ]
  },
  {
   "cell_type": "code",
   "execution_count": 30,
   "metadata": {},
   "outputs": [
    {
     "output_type": "execute_result",
     "data": {
      "text/plain": [
       "['model_rf.sav']"
      ]
     },
     "metadata": {},
     "execution_count": 30
    }
   ],
   "source": [
    "# save your model by updating \"your_name\" with your name\n",
    "# and \"your_model\" with your model variable\n",
    "# be sure to turn this in to BCS\n",
    "# if joblib fails to import, try running the command to install in terminal/git-bash\n",
    "import joblib\n",
    "filename = 'model_rf.sav'\n",
    "joblib.dump(model3, filename)"
   ]
  }
 ],
 "metadata": {
  "kernel_info": {
   "name": "dev"
  },
  "kernelspec": {
   "name": "python3",
   "display_name": "Python 3.7.9 64-bit (conda)",
   "metadata": {
    "interpreter": {
     "hash": "b9265de25e7f12c4e5ae41868c22c06f0085fd1fe8bdf150e795ee47ff282b68"
    }
   }
  },
  "language_info": {
   "codemirror_mode": {
    "name": "ipython",
    "version": 3
   },
   "file_extension": ".py",
   "mimetype": "text/x-python",
   "name": "python",
   "nbconvert_exporter": "python",
   "pygments_lexer": "ipython3",
   "version": "3.7.9-final"
  },
  "nteract": {
   "version": "0.12.3"
  }
 },
 "nbformat": 4,
 "nbformat_minor": 2
}